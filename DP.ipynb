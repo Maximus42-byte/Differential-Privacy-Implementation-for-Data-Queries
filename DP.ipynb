{
  "cells": [
    {
      "cell_type": "markdown",
      "metadata": {
        "id": "P2loe1dKHsYA"
      },
      "source": [
        "Security and Privacy in ML\n",
        "\n",
        "Instructor: Dr. Sadeghzadeh"
      ]
    },
    {
      "cell_type": "markdown",
      "source": [
        "HW06\n",
        "\n",
        "Student Name:Mahdi Saieedi\n",
        "\n",
        "Student ID: 401207254"
      ],
      "metadata": {
        "id": "iAMLVR4nX_Ki"
      }
    },
    {
      "cell_type": "markdown",
      "metadata": {
        "id": "rPNtTICnHsYC"
      },
      "source": [
        "# Differential privacy for numeric queries"
      ]
    },
    {
      "cell_type": "code",
      "execution_count": 2,
      "metadata": {
        "id": "cUoPI4DmHsYC"
      },
      "outputs": [],
      "source": [
        "import numpy as np\n",
        "import pandas as pd\n",
        "import matplotlib.pyplot as plt\n",
        "from sklearn.datasets import fetch_openml # need sklearn >= 0.22"
      ]
    },
    {
      "cell_type": "code",
      "source": [
        "import sklearn\n",
        "print(sklearn.__version__)"
      ],
      "metadata": {
        "colab": {
          "base_uri": "https://localhost:8080/"
        },
        "id": "7mhdFMmszAvL",
        "outputId": "a32286b6-a570-417d-fa13-42e1f34257aa"
      },
      "execution_count": 7,
      "outputs": [
        {
          "output_type": "stream",
          "name": "stdout",
          "text": [
            "1.2.2\n"
          ]
        }
      ]
    },
    {
      "cell_type": "markdown",
      "metadata": {
        "id": "uC9tTfAQHsYC"
      },
      "source": [
        "Below we provide a helper function to draw bar plots from pandas Series.\n",
        "\n",
        "\n",
        "\n"
      ]
    },
    {
      "cell_type": "code",
      "execution_count": 3,
      "metadata": {
        "id": "sgGpG2q4HsYD"
      },
      "outputs": [],
      "source": [
        "def bar_plot_pandas(series1, series2=None, label1=\"Series 1\", label2=\"Series 2\", title=\"\"):\n",
        "    '''\n",
        "    Draws a bar plot of one Pandas Series, or two pandas Series with the same index\n",
        "\n",
        "    Parameters\n",
        "    ----------\n",
        "    series1 : Series of float\n",
        "        First input\n",
        "    series2 : Series of float, optional\n",
        "        Second input (with same index)\n",
        "    label1 : string, optional\n",
        "        Label for the first series\n",
        "    label2 : string, optional\n",
        "        Label for the second series\n",
        "    title : string, optional\n",
        "        Plot title\n",
        "    '''\n",
        "    if not isinstance(series1, pd.Series):\n",
        "        raise ValueError(\"series1 must be a pandas Series\")\n",
        "\n",
        "    # Check if series2 is provided and ensure it is a pandas Series\n",
        "    if series2 is not None and not isinstance(series2, pd.Series):\n",
        "        raise ValueError(\"series2 must be a pandas Series if provided\")\n",
        "\n",
        "    # Check if series2 is provided and has the same index as series1\n",
        "    if series2 is not None and not series1.index.equals(series2.index):\n",
        "        raise ValueError(\"series1 and series2 must have the same index\")\n",
        "\n",
        "    # Create the plot\n",
        "    if series2 is None:\n",
        "        ax = series1.plot.bar()\n",
        "        ax.legend([label1])\n",
        "    else:\n",
        "        concat_series = pd.DataFrame({label1: series1, label2: series2})\n",
        "        ax = concat_series.plot.bar()\n",
        "\n",
        "    # Set title and labels\n",
        "    ax.set_title(title)\n",
        "    ax.set_xlabel(\"Index\")\n",
        "    ax.set_ylabel(\"Value\")\n",
        "\n",
        "    # Display the plot\n",
        "    plt.show()\n",
        "    # if series2 is None:\n",
        "    #     series1.plot.bar()\n",
        "    #     plt.legend([label1])\n",
        "    # else:\n",
        "    #     concat_series = pd.DataFrame({label1: series1, label2: series2}).reset_index()\n",
        "    #     concat_series.plot.bar(x=\"index\", y=[label1, label2], xlabel=\"\", title=title)"
      ]
    },
    {
      "cell_type": "code",
      "source": [
        "data1 = pd.Series([1, 2, 3], index=['a', 'b', 'c'])\n",
        "data2 = pd.Series([4, 5, 6], index=['a', 'b', 'c'])"
      ],
      "metadata": {
        "id": "vTTjjoKty1uG"
      },
      "execution_count": 4,
      "outputs": []
    },
    {
      "cell_type": "code",
      "source": [
        "bar_plot_pandas(data1, data2, label1=\"First Series\", label2=\"Second Series\", title=\"Bar Plot Example\")"
      ],
      "metadata": {
        "colab": {
          "base_uri": "https://localhost:8080/",
          "height": 467
        },
        "id": "zPPStttGy5WU",
        "outputId": "e77e0033-6308-4407-c1b3-b282dd89a787"
      },
      "execution_count": 5,
      "outputs": [
        {
          "output_type": "display_data",
          "data": {
            "text/plain": [
              "<Figure size 640x480 with 1 Axes>"
            ],
            "image/png": "[encoded data removed]"
          },
          "metadata": {}
        }
      ]
    },
    {
      "cell_type": "markdown",
      "metadata": {
        "id": "Z9WVkVMwHsYD"
      },
      "source": [
        "## Dataset"
      ]
    },
    {
      "cell_type": "markdown",
      "metadata": {
        "id": "KY036EZvHsYD"
      },
      "source": [
        "We will be working with a dataset from the US Census (also known as the Adult dataset). You can read about the dataset [here](https://archive.ics.uci.edu/ml/datasets/census+income).\n",
        "\n",
        "The following line loads the dataset from [OpenML](https://www.openml.org/) with the `fetch_openml` method of `sklearn`. The option `as_frame=True` (**requires sklearn version >= 0.22**) loads the dataset in `pandas DataFrame` format: this keeps the attributes in their original form and will be more convenient to work with. If you prefer working with a numpy array (not recommended), set `as_frame=False`."
      ]
    },
    {
      "cell_type": "code",
      "execution_count": 8,
      "metadata": {
        "colab": {
          "base_uri": "https://localhost:8080/"
        },
        "id": "gREaOna9HsYD",
        "outputId": "daf50d7d-f9cb-45d3-be14-7abad9b0e10e"
      },
      "outputs": [
        {
          "output_type": "stream",
          "name": "stderr",
          "text": [
            "/usr/local/lib/python3.10/dist-packages/sklearn/datasets/_openml.py:968: FutureWarning: The default value of `parser` will change from `'liac-arff'` to `'auto'` in 1.4. You can set `parser='auto'` to silence this warning. Therefore, an `ImportError` will be raised from 1.4 if the dataset is dense and pandas is not installed. Note that the pandas parser may return different data types. See the Notes Section in fetch_openml's API doc for details.\n",
            "  warn(\n"
          ]
        }
      ],
      "source": [
        "dataset_handle = fetch_openml(name='adult', version=2, as_frame=True)\n",
        "dataset = dataset_handle.frame"
      ]
    },
    {
      "cell_type": "markdown",
      "metadata": {
        "id": "tdFglBmJHsYD"
      },
      "source": [
        "Take a look at the dataset, in particular the number of rows (individuals), the number of columns (attributes) and what they represent."
      ]
    },
    {
      "cell_type": "code",
      "execution_count": 9,
      "metadata": {
        "colab": {
          "base_uri": "https://localhost:8080/",
          "height": 381
        },
        "id": "NFTT8D4sHsYD",
        "outputId": "4f38670e-4f57-4dea-c93b-34a3e875391d"
      },
      "outputs": [
        {
          "output_type": "stream",
          "name": "stdout",
          "text": [
            "48842 15\n"
          ]
        },
        {
          "output_type": "execute_result",
          "data": {
            "text/plain": [
              "    age         workclass    fnlwgt     education  education-num  \\\n",
              "0  25.0           Private  226802.0          11th            7.0   \n",
              "1  38.0           Private   89814.0       HS-grad            9.0   \n",
              "2  28.0         Local-gov  336951.0    Assoc-acdm           12.0   \n",
              "3  44.0           Private  160323.0  Some-college           10.0   \n",
              "4  18.0               NaN  103497.0  Some-college           10.0   \n",
              "5  34.0           Private  198693.0          10th            6.0   \n",
              "6  29.0               NaN  227026.0       HS-grad            9.0   \n",
              "7  63.0  Self-emp-not-inc  104626.0   Prof-school           15.0   \n",
              "8  24.0           Private  369667.0  Some-college           10.0   \n",
              "9  55.0           Private  104996.0       7th-8th            4.0   \n",
              "\n",
              "       marital-status         occupation   relationship   race     sex  \\\n",
              "0       Never-married  Machine-op-inspct      Own-child  Black    Male   \n",
              "1  Married-civ-spouse    Farming-fishing        Husband  White    Male   \n",
              "2  Married-civ-spouse    Protective-serv        Husband  White    Male   \n",
              "3  Married-civ-spouse  Machine-op-inspct        Husband  Black    Male   \n",
              "4       Never-married                NaN      Own-child  White  Female   \n",
              "5       Never-married      Other-service  Not-in-family  White    Male   \n",
              "6       Never-married                NaN      Unmarried  Black    Male   \n",
              "7  Married-civ-spouse     Prof-specialty        Husband  White    Male   \n",
              "8       Never-married      Other-service      Unmarried  White  Female   \n",
              "9  Married-civ-spouse       Craft-repair        Husband  White    Male   \n",
              "\n",
              "   capital-gain  capital-loss  hours-per-week native-country  class  \n",
              "0           0.0           0.0            40.0  United-States  <=50K  \n",
              "1           0.0           0.0            50.0  United-States  <=50K  \n",
              "2           0.0           0.0            40.0  United-States   >50K  \n",
              "3        7688.0           0.0            40.0  United-States   >50K  \n",
              "4           0.0           0.0            30.0  United-States  <=50K  \n",
              "5           0.0           0.0            30.0  United-States  <=50K  \n",
              "6           0.0           0.0            40.0  United-States  <=50K  \n",
              "7        3103.0           0.0            32.0  United-States   >50K  \n",
              "8           0.0           0.0            40.0  United-States  <=50K  \n",
              "9           0.0           0.0            10.0  United-States  <=50K  "
            ],
            "text/html": [
              "\n",
              "  <div id=\"df-cdf8682e-54a2-45c6-8758-4e7b7eab7dd0\" class=\"colab-df-container\">\n",
              "    <div>\n",
              "<style scoped>\n",
              "    .dataframe tbody tr th:only-of-type {\n",
              "        vertical-align: middle;\n",
              "    }\n",
              "\n",
              "    .dataframe tbody tr th {\n",
              "        vertical-align: top;\n",
              "    }\n",
              "\n",
              "    .dataframe thead th {\n",
              "        text-align: right;\n",
              "    }\n",
              "</style>\n",
              "<table border=\"1\" class=\"dataframe\">\n",
              "  <thead>\n",
              "    <tr style=\"text-align: right;\">\n",
              "      <th></th>\n",
              "      <th>age</th>\n",
              "      <th>workclass</th>\n",
              "      <th>fnlwgt</th>\n",
              "      <th>education</th>\n",
              "      <th>education-num</th>\n",
              "      <th>marital-status</th>\n",
              "      <th>occupation</th>\n",
              "      <th>relationship</th>\n",
              "      <th>race</th>\n",
              "      <th>sex</th>\n",
              "      <th>capital-gain</th>\n",
              "      <th>capital-loss</th>\n",
              "      <th>hours-per-week</th>\n",
              "      <th>native-country</th>\n",
              "      <th>class</th>\n",
              "    </tr>\n",
              "  </thead>\n",
              "  <tbody>\n",
              "    <tr>\n",
              "      <th>0</th>\n",
              "      <td>25.0</td>\n",
              "      <td>Private</td>\n",
              "      <td>226802.0</td>\n",
              "      <td>11th</td>\n",
              "      <td>7.0</td>\n",
              "      <td>Never-married</td>\n",
              "      <td>Machine-op-inspct</td>\n",
              "      <td>Own-child</td>\n",
              "      <td>Black</td>\n",
              "      <td>Male</td>\n",
              "      <td>0.0</td>\n",
              "      <td>0.0</td>\n",
              "      <td>40.0</td>\n",
              "      <td>United-States</td>\n",
              "      <td>&lt;=50K</td>\n",
              "    </tr>\n",
              "    <tr>\n",
              "      <th>1</th>\n",
              "      <td>38.0</td>\n",
              "      <td>Private</td>\n",
              "      <td>89814.0</td>\n",
              "      <td>HS-grad</td>\n",
              "      <td>9.0</td>\n",
              "      <td>Married-civ-spouse</td>\n",
              "      <td>Farming-fishing</td>\n",
              "      <td>Husband</td>\n",
              "      <td>White</td>\n",
              "      <td>Male</td>\n",
              "      <td>0.0</td>\n",
              "      <td>0.0</td>\n",
              "      <td>50.0</td>\n",
              "      <td>United-States</td>\n",
              "      <td>&lt;=50K</td>\n",
              "    </tr>\n",
              "    <tr>\n",
              "      <th>2</th>\n",
              "      <td>28.0</td>\n",
              "      <td>Local-gov</td>\n",
              "      <td>336951.0</td>\n",
              "      <td>Assoc-acdm</td>\n",
              "      <td>12.0</td>\n",
              "      <td>Married-civ-spouse</td>\n",
              "      <td>Protective-serv</td>\n",
              "      <td>Husband</td>\n",
              "      <td>White</td>\n",
              "      <td>Male</td>\n",
              "      <td>0.0</td>\n",
              "      <td>0.0</td>\n",
              "      <td>40.0</td>\n",
              "      <td>United-States</td>\n",
              "      <td>&gt;50K</td>\n",
              "    </tr>\n",
              "    <tr>\n",
              "      <th>3</th>\n",
              "      <td>44.0</td>\n",
              "      <td>Private</td>\n",
              "      <td>160323.0</td>\n",
              "      <td>Some-college</td>\n",
              "      <td>10.0</td>\n",
              "      <td>Married-civ-spouse</td>\n",
              "      <td>Machine-op-inspct</td>\n",
              "      <td>Husband</td>\n",
              "      <td>Black</td>\n",
              "      <td>Male</td>\n",
              "      <td>7688.0</td>\n",
              "      <td>0.0</td>\n",
              "      <td>40.0</td>\n",
              "      <td>United-States</td>\n",
              "      <td>&gt;50K</td>\n",
              "    </tr>\n",
              "    <tr>\n",
              "      <th>4</th>\n",
              "      <td>18.0</td>\n",
              "      <td>NaN</td>\n",
              "      <td>103497.0</td>\n",
              "      <td>Some-college</td>\n",
              "      <td>10.0</td>\n",
              "      <td>Never-married</td>\n",
              "      <td>NaN</td>\n",
              "      <td>Own-child</td>\n",
              "      <td>White</td>\n",
              "      <td>Female</td>\n",
              "      <td>0.0</td>\n",
              "      <td>0.0</td>\n",
              "      <td>30.0</td>\n",
              "      <td>United-States</td>\n",
              "      <td>&lt;=50K</td>\n",
              "    </tr>\n",
              "    <tr>\n",
              "      <th>5</th>\n",
              "      <td>34.0</td>\n",
              "      <td>Private</td>\n",
              "      <td>198693.0</td>\n",
              "      <td>10th</td>\n",
              "      <td>6.0</td>\n",
              "      <td>Never-married</td>\n",
              "      <td>Other-service</td>\n",
              "      <td>Not-in-family</td>\n",
              "      <td>White</td>\n",
              "      <td>Male</td>\n",
              "      <td>0.0</td>\n",
              "      <td>0.0</td>\n",
              "      <td>30.0</td>\n",
              "      <td>United-States</td>\n",
              "      <td>&lt;=50K</td>\n",
              "    </tr>\n",
              "    <tr>\n",
              "      <th>6</th>\n",
              "      <td>29.0</td>\n",
              "      <td>NaN</td>\n",
              "      <td>227026.0</td>\n",
              "      <td>HS-grad</td>\n",
              "      <td>9.0</td>\n",
              "      <td>Never-married</td>\n",
              "      <td>NaN</td>\n",
              "      <td>Unmarried</td>\n",
              "      <td>Black</td>\n",
              "      <td>Male</td>\n",
              "      <td>0.0</td>\n",
              "      <td>0.0</td>\n",
              "      <td>40.0</td>\n",
              "      <td>United-States</td>\n",
              "      <td>&lt;=50K</td>\n",
              "    </tr>\n",
              "    <tr>\n",
              "      <th>7</th>\n",
              "      <td>63.0</td>\n",
              "      <td>Self-emp-not-inc</td>\n",
              "      <td>104626.0</td>\n",
              "      <td>Prof-school</td>\n",
              "      <td>15.0</td>\n",
              "      <td>Married-civ-spouse</td>\n",
              "      <td>Prof-specialty</td>\n",
              "      <td>Husband</td>\n",
              "      <td>White</td>\n",
              "      <td>Male</td>\n",
              "      <td>3103.0</td>\n",
              "      <td>0.0</td>\n",
              "      <td>32.0</td>\n",
              "      <td>United-States</td>\n",
              "      <td>&gt;50K</td>\n",
              "    </tr>\n",
              "    <tr>\n",
              "      <th>8</th>\n",
              "      <td>24.0</td>\n",
              "      <td>Private</td>\n",
              "      <td>369667.0</td>\n",
              "      <td>Some-college</td>\n",
              "      <td>10.0</td>\n",
              "      <td>Never-married</td>\n",
              "      <td>Other-service</td>\n",
              "      <td>Unmarried</td>\n",
              "      <td>White</td>\n",
              "      <td>Female</td>\n",
              "      <td>0.0</td>\n",
              "      <td>0.0</td>\n",
              "      <td>40.0</td>\n",
              "      <td>United-States</td>\n",
              "      <td>&lt;=50K</td>\n",
              "    </tr>\n",
              "    <tr>\n",
              "      <th>9</th>\n",
              "      <td>55.0</td>\n",
              "      <td>Private</td>\n",
              "      <td>104996.0</td>\n",
              "      <td>7th-8th</td>\n",
              "      <td>4.0</td>\n",
              "      <td>Married-civ-spouse</td>\n",
              "      <td>Craft-repair</td>\n",
              "      <td>Husband</td>\n",
              "      <td>White</td>\n",
              "      <td>Male</td>\n",
              "      <td>0.0</td>\n",
              "      <td>0.0</td>\n",
              "      <td>10.0</td>\n",
              "      <td>United-States</td>\n",
              "      <td>&lt;=50K</td>\n",
              "    </tr>\n",
              "  </tbody>\n",
              "</table>\n",
              "</div>\n",
              "    <div class=\"colab-df-buttons\">\n",
              "\n",
              "  <div class=\"colab-df-container\">\n",
              "    <button class=\"colab-df-convert\" onclick=\"convertToInteractive('df-cdf8682e-54a2-45c6-8758-4e7b7eab7dd0')\"\n",
              "            title=\"Convert this dataframe to an interactive table.\"\n",
              "            style=\"display:none;\">\n",
              "\n",
              "  <svg xmlns=\"http://www.w3.org/2000/svg\" height=\"24px\" viewBox=\"0 -960 960 960\">\n",
              "    <path d=\"M120-120v-720h720v720H120Zm60-500h600v-160H180v160Zm220 220h160v-160H400v160Zm0 220h160v-160H400v160ZM180-400h160v-160H180v160Zm440 0h160v-160H620v160ZM180-180h160v-160H180v160Zm440 0h160v-160H620v160Z\"/>\n",
              "  </svg>\n",
              "    </button>\n",
              "\n",
              "  <style>\n",
              "    .colab-df-container {\n",
              "      display:flex;\n",
              "      gap: 12px;\n",
              "    }\n",
              "\n",
              "    .colab-df-convert {\n",
              "      background-color: #E8F0FE;\n",
              "      border: none;\n",
              "      border-radius: 50%;\n",
              "      cursor: pointer;\n",
              "      display: none;\n",
              "      fill: #1967D2;\n",
              "      height: 32px;\n",
              "      padding: 0 0 0 0;\n",
              "      width: 32px;\n",
              "    }\n",
              "\n",
              "    .colab-df-convert:hover {\n",
              "      background-color: #E2EBFA;\n",
              "      box-shadow: 0px 1px 2px rgba(60, 64, 67, 0.3), 0px 1px 3px 1px rgba(60, 64, 67, 0.15);\n",
              "      fill: #174EA6;\n",
              "    }\n",
              "\n",
              "    .colab-df-buttons div {\n",
              "      margin-bottom: 4px;\n",
              "    }\n",
              "\n",
              "    [theme=dark] .colab-df-convert {\n",
              "      background-color: #3B4455;\n",
              "      fill: #D2E3FC;\n",
              "    }\n",
              "\n",
              "    [theme=dark] .colab-df-convert:hover {\n",
              "      background-color: #434B5C;\n",
              "      box-shadow: 0px 1px 3px 1px rgba(0, 0, 0, 0.15);\n",
              "      filter: drop-shadow(0px 1px 2px rgba(0, 0, 0, 0.3));\n",
              "      fill: #FFFFFF;\n",
              "    }\n",
              "  </style>\n",
              "\n",
              "    <script>\n",
              "      const buttonEl =\n",
              "        document.querySelector('#df-cdf8682e-54a2-45c6-8758-4e7b7eab7dd0 button.colab-df-convert');\n",
              "      buttonEl.style.display =\n",
              "        google.colab.kernel.accessAllowed ? 'block' : 'none';\n",
              "\n",
              "      async function convertToInteractive(key) {\n",
              "        const element = document.querySelector('#df-cdf8682e-54a2-45c6-8758-4e7b7eab7dd0');\n",
              "        const dataTable =\n",
              "          await google.colab.kernel.invokeFunction('convertToInteractive',\n",
              "                                                    [key], {});\n",
              "        if (!dataTable) return;\n",
              "\n",
              "        const docLinkHtml = 'Like what you see? Visit the ' +\n",
              "          '<a target=\"_blank\" href=https://colab.research.google.com/notebooks/data_table.ipynb>data table notebook</a>'\n",
              "          + ' to learn more about interactive tables.';\n",
              "        element.innerHTML = '';\n",
              "        dataTable['output_type'] = 'display_data';\n",
              "        await google.colab.output.renderOutput(dataTable, element);\n",
              "        const docLink = document.createElement('div');\n",
              "        docLink.innerHTML = docLinkHtml;\n",
              "        element.appendChild(docLink);\n",
              "      }\n",
              "    </script>\n",
              "  </div>\n",
              "\n",
              "\n",
              "<div id=\"df-8f8f11bd-32ec-4bca-a4ff-23a954e61311\">\n",
              "  <button class=\"colab-df-quickchart\" onclick=\"quickchart('df-8f8f11bd-32ec-4bca-a4ff-23a954e61311')\"\n",
              "            title=\"Suggest charts\"\n",
              "            style=\"display:none;\">\n",
              "\n",
              "<svg xmlns=\"http://www.w3.org/2000/svg\" height=\"24px\"viewBox=\"0 0 24 24\"\n",
              "     width=\"24px\">\n",
              "    <g>\n",
              "        <path d=\"M19 3H5c-1.1 0-2 .9-2 2v14c0 1.1.9 2 2 2h14c1.1 0 2-.9 2-2V5c0-1.1-.9-2-2-2zM9 17H7v-7h2v7zm4 0h-2V7h2v10zm4 0h-2v-4h2v4z\"/>\n",
              "    </g>\n",
              "</svg>\n",
              "  </button>\n",
              "\n",
              "<style>\n",
              "  .colab-df-quickchart {\n",
              "      --bg-color: #E8F0FE;\n",
              "      --fill-color: #1967D2;\n",
              "      --hover-bg-color: #E2EBFA;\n",
              "      --hover-fill-color: #174EA6;\n",
              "      --disabled-fill-color: #AAA;\n",
              "      --disabled-bg-color: #DDD;\n",
              "  }\n",
              "\n",
              "  [theme=dark] .colab-df-quickchart {\n",
              "      --bg-color: #3B4455;\n",
              "      --fill-color: #D2E3FC;\n",
              "      --hover-bg-color: #434B5C;\n",
              "      --hover-fill-color: #FFFFFF;\n",
              "      --disabled-bg-color: #3B4455;\n",
              "      --disabled-fill-color: #666;\n",
              "  }\n",
              "\n",
              "  .colab-df-quickchart {\n",
              "    background-color: var(--bg-color);\n",
              "    border: none;\n",
              "    border-radius: 50%;\n",
              "    cursor: pointer;\n",
              "    display: none;\n",
              "    fill: var(--fill-color);\n",
              "    height: 32px;\n",
              "    padding: 0;\n",
              "    width: 32px;\n",
              "  }\n",
              "\n",
              "  .colab-df-quickchart:hover {\n",
              "    background-color: var(--hover-bg-color);\n",
              "    box-shadow: 0 1px 2px rgba(60, 64, 67, 0.3), 0 1px 3px 1px rgba(60, 64, 67, 0.15);\n",
              "    fill: var(--button-hover-fill-color);\n",
              "  }\n",
              "\n",
              "  .colab-df-quickchart-complete:disabled,\n",
              "  .colab-df-quickchart-complete:disabled:hover {\n",
              "    background-color: var(--disabled-bg-color);\n",
              "    fill: var(--disabled-fill-color);\n",
              "    box-shadow: none;\n",
              "  }\n",
              "\n",
              "  .colab-df-spinner {\n",
              "    border: 2px solid var(--fill-color);\n",
              "    border-color: transparent;\n",
              "    border-bottom-color: var(--fill-color);\n",
              "    animation:\n",
              "      spin 1s steps(1) infinite;\n",
              "  }\n",
              "\n",
              "  @keyframes spin {\n",
              "    0% {\n",
              "      border-color: transparent;\n",
              "      border-bottom-color: var(--fill-color);\n",
              "      border-left-color: var(--fill-color);\n",
              "    }\n",
              "    20% {\n",
              "      border-color: transparent;\n",
              "      border-left-color: var(--fill-color);\n",
              "      border-top-color: var(--fill-color);\n",
              "    }\n",
              "    30% {\n",
              "      border-color: transparent;\n",
              "      border-left-color: var(--fill-color);\n",
              "      border-top-color: var(--fill-color);\n",
              "      border-right-color: var(--fill-color);\n",
              "    }\n",
              "    40% {\n",
              "      border-color: transparent;\n",
              "      border-right-color: var(--fill-color);\n",
              "      border-top-color: var(--fill-color);\n",
              "    }\n",
              "    60% {\n",
              "      border-color: transparent;\n",
              "      border-right-color: var(--fill-color);\n",
              "    }\n",
              "    80% {\n",
              "      border-color: transparent;\n",
              "      border-right-color: var(--fill-color);\n",
              "      border-bottom-color: var(--fill-color);\n",
              "    }\n",
              "    90% {\n",
              "      border-color: transparent;\n",
              "      border-bottom-color: var(--fill-color);\n",
              "    }\n",
              "  }\n",
              "</style>\n",
              "\n",
              "  <script>\n",
              "    async function quickchart(key) {\n",
              "      const quickchartButtonEl =\n",
              "        document.querySelector('#' + key + ' button');\n",
              "      quickchartButtonEl.disabled = true;  // To prevent multiple clicks.\n",
              "      quickchartButtonEl.classList.add('colab-df-spinner');\n",
              "      try {\n",
              "        const charts = await google.colab.kernel.invokeFunction(\n",
              "            'suggestCharts', [key], {});\n",
              "      } catch (error) {\n",
              "        console.error('Error during call to suggestCharts:', error);\n",
              "      }\n",
              "      quickchartButtonEl.classList.remove('colab-df-spinner');\n",
              "      quickchartButtonEl.classList.add('colab-df-quickchart-complete');\n",
              "    }\n",
              "    (() => {\n",
              "      let quickchartButtonEl =\n",
              "        document.querySelector('#df-8f8f11bd-32ec-4bca-a4ff-23a954e61311 button');\n",
              "      quickchartButtonEl.style.display =\n",
              "        google.colab.kernel.accessAllowed ? 'block' : 'none';\n",
              "    })();\n",
              "  </script>\n",
              "</div>\n",
              "\n",
              "    </div>\n",
              "  </div>\n"
            ],
            "application/vnd.google.colaboratory.intrinsic+json": {
              "type": "dataframe",
              "variable_name": "dataset",
              "summary": "{\n  \"name\": \"dataset\",\n  \"rows\": 48842,\n  \"fields\": [\n    {\n      \"column\": \"age\",\n      \"properties\": {\n        \"dtype\": \"number\",\n        \"std\": 13.710509934443557,\n        \"min\": 17.0,\n        \"max\": 90.0,\n        \"num_unique_values\": 74,\n        \"samples\": [\n          18.0,\n          74.0,\n          40.0\n        ],\n        \"semantic_type\": \"\",\n        \"description\": \"\"\n      }\n    },\n    {\n      \"column\": \"workclass\",\n      \"properties\": {\n        \"dtype\": \"category\",\n        \"num_unique_values\": 8,\n        \"samples\": [\n          \"Local-gov\",\n          \"Self-emp-inc\",\n          \"Private\"\n        ],\n        \"semantic_type\": \"\",\n        \"description\": \"\"\n      }\n    },\n    {\n      \"column\": \"fnlwgt\",\n      \"properties\": {\n        \"dtype\": \"number\",\n        \"std\": 105604.02542315728,\n        \"min\": 12285.0,\n        \"max\": 1490400.0,\n        \"num_unique_values\": 28523,\n        \"samples\": [\n          171041.0,\n          20296.0,\n          263896.0\n        ],\n        \"semantic_type\": \"\",\n        \"description\": \"\"\n      }\n    },\n    {\n      \"column\": \"education\",\n      \"properties\": {\n        \"dtype\": \"category\",\n        \"num_unique_values\": 16,\n        \"samples\": [\n          \"11th\",\n          \"HS-grad\",\n          \"Prof-school\"\n        ],\n        \"semantic_type\": \"\",\n        \"description\": \"\"\n      }\n    },\n    {\n      \"column\": \"education-num\",\n      \"properties\": {\n        \"dtype\": \"number\",\n        \"std\": 2.5709727555922566,\n        \"min\": 1.0,\n        \"max\": 16.0,\n        \"num_unique_values\": 16,\n        \"samples\": [\n          7.0,\n          9.0,\n          15.0\n        ],\n        \"semantic_type\": \"\",\n        \"description\": \"\"\n      }\n    },\n    {\n      \"column\": \"marital-status\",\n      \"properties\": {\n        \"dtype\": \"category\",\n        \"num_unique_values\": 7,\n        \"samples\": [\n          \"Never-married\",\n          \"Married-civ-spouse\",\n          \"Married-spouse-absent\"\n        ],\n        \"semantic_type\": \"\",\n        \"description\": \"\"\n      }\n    },\n    {\n      \"column\": \"occupation\",\n      \"properties\": {\n        \"dtype\": \"category\",\n        \"num_unique_values\": 14,\n        \"samples\": [\n          \"Sales\",\n          \"Transport-moving\",\n          \"Machine-op-inspct\"\n        ],\n        \"semantic_type\": \"\",\n        \"description\": \"\"\n      }\n    },\n    {\n      \"column\": \"relationship\",\n      \"properties\": {\n        \"dtype\": \"category\",\n        \"num_unique_values\": 6,\n        \"samples\": [\n          \"Own-child\",\n          \"Husband\",\n          \"Other-relative\"\n        ],\n        \"semantic_type\": \"\",\n        \"description\": \"\"\n      }\n    },\n    {\n      \"column\": \"race\",\n      \"properties\": {\n        \"dtype\": \"category\",\n        \"num_unique_values\": 5,\n        \"samples\": [\n          \"White\",\n          \"Amer-Indian-Eskimo\",\n          \"Asian-Pac-Islander\"\n        ],\n        \"semantic_type\": \"\",\n        \"description\": \"\"\n      }\n    },\n    {\n      \"column\": \"sex\",\n      \"properties\": {\n        \"dtype\": \"category\",\n        \"num_unique_values\": 2,\n        \"samples\": [\n          \"Female\",\n          \"Male\"\n        ],\n        \"semantic_type\": \"\",\n        \"description\": \"\"\n      }\n    },\n    {\n      \"column\": \"capital-gain\",\n      \"properties\": {\n        \"dtype\": \"number\",\n        \"std\": 7452.019057655394,\n        \"min\": 0.0,\n        \"max\": 99999.0,\n        \"num_unique_values\": 123,\n        \"samples\": [\n          4064.0,\n          4787.0\n        ],\n        \"semantic_type\": \"\",\n        \"description\": \"\"\n      }\n    },\n    {\n      \"column\": \"capital-loss\",\n      \"properties\": {\n        \"dtype\": \"number\",\n        \"std\": 403.00455212435907,\n        \"min\": 0.0,\n        \"max\": 4356.0,\n        \"num_unique_values\": 99,\n        \"samples\": [\n          2238.0,\n          1564.0\n        ],\n        \"semantic_type\": \"\",\n        \"description\": \"\"\n      }\n    },\n    {\n      \"column\": \"hours-per-week\",\n      \"properties\": {\n        \"dtype\": \"number\",\n        \"std\": 12.391444024252307,\n        \"min\": 1.0,\n        \"max\": 99.0,\n        \"num_unique_values\": 96,\n        \"samples\": [\n          9.0,\n          11.0\n        ],\n        \"semantic_type\": \"\",\n        \"description\": \"\"\n      }\n    },\n    {\n      \"column\": \"native-country\",\n      \"properties\": {\n        \"dtype\": \"category\",\n        \"num_unique_values\": 41,\n        \"samples\": [\n          \"Canada\",\n          \"South\"\n        ],\n        \"semantic_type\": \"\",\n        \"description\": \"\"\n      }\n    },\n    {\n      \"column\": \"class\",\n      \"properties\": {\n        \"dtype\": \"category\",\n        \"num_unique_values\": 2,\n        \"samples\": [\n          \">50K\",\n          \"<=50K\"\n        ],\n        \"semantic_type\": \"\",\n        \"description\": \"\"\n      }\n    }\n  ]\n}"
            }
          },
          "metadata": {},
          "execution_count": 9
        }
      ],
      "source": [
        "n, d = dataset.shape\n",
        "print(n, d)\n",
        "dataset.head(10)"
      ]
    },
    {
      "cell_type": "markdown",
      "metadata": {
        "id": "q5Jzp3vqHsYE"
      },
      "source": [
        "## Question 1 (non-private queries) [15 pts]"
      ]
    },
    {
      "cell_type": "markdown",
      "metadata": {
        "id": "8YmgbrHGHsYE"
      },
      "source": [
        "Implement a function for each of these types of queries (without privacy) and test them on the dataset:\n",
        "- **Simple count queries**: it takes as input a dataset (`DataFrame`), a categorical attribute (e.g., `\"sex\"`) and a value (e.g., `\"Male\"`), and returns how many rows in the dataset have the prescribed attribute value.\n",
        "- **Averaging queries**: it takes as input a dataset and a numeric attribute (e.g., `\"age\"`), and returns the average value of this attribute in the dataset.\n",
        "- **Histogram queries**: it takes as input a dataset and a categorical attribute (e.g., `\"sex\"`), and returns the histogram of counts for this attribute in the dataset (i.e., for each possible value of the attribute, how many rows have this value).\n",
        "\n",
        "Reminder: for a DataFrame `df`, we can access the column corresponding to an attribute `attr` by `df[attr]`. The method `value_counts()` allows to build a histogram of a column. To plot a pandas Series `s` as a histogram, you can use `s.plot.bar()`.\n",
        "\n",
        "Note: You can use the function `bar_plot_pandas` provided in the preamble to draw a bar plot of a pandas Series, which is useful to show histograms."
      ]
    },
    {
      "cell_type": "code",
      "execution_count": 10,
      "metadata": {
        "id": "0NiuC4qVHsYE"
      },
      "outputs": [],
      "source": [
        "def count_query(df, attribute, value):\n",
        "    '''\n",
        "    Parameters\n",
        "    ----------\n",
        "    df : DataFrame\n",
        "        Dataset\n",
        "    attribute : string\n",
        "        Name of an attribute with categorical values\n",
        "    value : string or int\n",
        "        Value of attribute to count\n",
        "\n",
        "    Returns\n",
        "    -------\n",
        "    count : int\n",
        "        The number of records with `attribute=value` in dataset `df`\n",
        "    '''\n",
        "    count = df[df[attribute] == value].shape[0]\n",
        "    return count"
      ]
    },
    {
      "cell_type": "code",
      "source": [],
      "metadata": {
        "id": "rp-HDTHa0cov"
      },
      "execution_count": null,
      "outputs": []
    },
    {
      "cell_type": "code",
      "execution_count": 11,
      "metadata": {
        "id": "oOOY2r5XHsYE"
      },
      "outputs": [],
      "source": [
        "def average_query(df, attribute):\n",
        "    '''\n",
        "    Parameters\n",
        "    ----------\n",
        "    df : DataFrame\n",
        "        Dataset\n",
        "    attribute : string\n",
        "        Name of an attribute with numeric values\n",
        "\n",
        "    Returns\n",
        "    -------\n",
        "    average : float\n",
        "        The average value of `attribute` in dataset `df`\n",
        "    '''\n",
        "    average = df[attribute].mean()\n",
        "    return average"
      ]
    },
    {
      "cell_type": "code",
      "execution_count": 12,
      "metadata": {
        "id": "Ac8qyVEsHsYE"
      },
      "outputs": [],
      "source": [
        "def histogram_query(df, attribute):\n",
        "    '''\n",
        "    Parameters\n",
        "    ----------\n",
        "    df : DataFrame\n",
        "        Dataset\n",
        "    attribute : string\n",
        "        Name of an attribute with categorical values\n",
        "\n",
        "    Returns\n",
        "    -------\n",
        "    histogram : array or Series of int\n",
        "        The histogram of `attribute`, i.e., the number of times each value of `attribute` appears in `df`\n",
        "    '''\n",
        "    histogram = df[attribute].value_counts()\n",
        "    return histogram"
      ]
    },
    {
      "cell_type": "markdown",
      "metadata": {
        "id": "WwrV8o6tHsYE"
      },
      "source": [
        "## Question 2 (Laplace mechanism) [15 pts]"
      ]
    },
    {
      "cell_type": "markdown",
      "metadata": {
        "id": "lQfg12FdHsYE"
      },
      "source": [
        "Implement the Laplace mechanism, i.e., a function which takes as input a (non-private) query output, the query's $\\ell_1$ sensitivity, the desired value of $\\epsilon$ and a random seed (for reproducibility), and returns a $\\epsilon$-differentially private estimate of the query. To draw Laplace noise, check `np.random.laplace`. The function should work with queries that output a scalar (like simple count and averaging queries), as well as those that output a vector (like histogram queries)."
      ]
    },
    {
      "cell_type": "code",
      "execution_count": 42,
      "metadata": {
        "id": "ZlcYjdbBHsYE"
      },
      "outputs": [],
      "source": [
        "def laplace_mechanism(q, s1, eps, random_state=None):\n",
        "    '''\n",
        "    Parameters\n",
        "    ----------\n",
        "    q : float or array/Series of float\n",
        "        The non-private output of the query\n",
        "    s1 : float\n",
        "        The L1 sensitivity of the query\n",
        "    eps : float\n",
        "        Parameter epsilon of differential privacy\n",
        "    random_state : int, optional (default=None)\n",
        "        Random seed\n",
        "\n",
        "    Returns\n",
        "    -------\n",
        "    private_q : float or array/Series of float\n",
        "        An eps-DP evaluation of the query\n",
        "    '''\n",
        "    if eps == 0:\n",
        "      return q\n",
        "    rng = np.random.RandomState(random_state)\n",
        "    scale = s1 / eps\n",
        "\n",
        "    if hasattr(q, 'shape'): # query output is multi-dimensional\n",
        "      noise = rng.laplace(0, scale, q.shape)\n",
        "    else: # query output is a scalar\n",
        "      noise = rng.laplace(0, scale)\n",
        "\n",
        "    private_q = q + noise\n",
        "    return private_q\n",
        "\n"
      ]
    },
    {
      "cell_type": "markdown",
      "metadata": {
        "id": "bCrCprP_HsYE"
      },
      "source": [
        "## Question 3 (Laplace mechanism on count queries) [10pts]"
      ]
    },
    {
      "cell_type": "markdown",
      "metadata": {
        "id": "7UaZejCqHsYE"
      },
      "source": [
        "We would like to use the Laplace mechanism to:\n",
        "- privately count the number of males in the dataset\n",
        "- generate a private histogram of the `\"workclass\"` attribute\n",
        "\n",
        "What is the sensitivity of the query in each case?\n",
        "\n",
        "Run the Laplace mechanism with different values of $\\epsilon$ and compute the $\\ell_1$-error with respect to the true (non-private) output to see the effect on the utility and compare with the formal error bound seen in the lecture. Recall that the mechanism is random, so unless you fix the seed you will get a different result at each execution. Visually compare the private and non-private histograms using the function `bar_plot_pandas` provided at the beginning of the notebook.\n",
        "\n",
        "Note: you may round the outputs of the private mechanism to make them integers if you like. This can be considered as post-processing and thus preserves DP (see Bonus Question 5 to go further on this aspect)."
      ]
    },
    {
      "cell_type": "code",
      "execution_count": 14,
      "metadata": {
        "id": "w5eNBp89HsYE"
      },
      "outputs": [],
      "source": [
        "def l1_error(a, b):\n",
        "    '''\n",
        "    Parameters\n",
        "    ----------\n",
        "    a : float or array/Series of float\n",
        "        First input\n",
        "    b : float or array/Series of float\n",
        "        Second input\n",
        "\n",
        "    Returns\n",
        "    -------\n",
        "    l1_error : float\n",
        "        The L1 distance between `a` and `b`: ||a-b||_1\n",
        "    '''\n",
        "    return np.sum(np.abs(a - b))\n",
        "\n"
      ]
    },
    {
      "cell_type": "code",
      "source": [
        "# list of (query,sensitivity) tuples to loop over\n",
        "# queries =\n",
        "queries = [\n",
        "    (lambda df: count_query(df, 'sex', 'Male'), 1),\n",
        "    (lambda df: histogram_query(df, 'workclass'), 1)\n",
        "]"
      ],
      "metadata": {
        "id": "-O8ZWJ0H2aPS"
      },
      "execution_count": 15,
      "outputs": []
    },
    {
      "cell_type": "code",
      "source": [
        "# Different epsilon values to test\n",
        "epsilons = [0.1, 1.0]"
      ],
      "metadata": {
        "id": "VVFONPD12mPu"
      },
      "execution_count": 16,
      "outputs": []
    },
    {
      "cell_type": "code",
      "source": [
        "# # Access the data and target\n",
        "# data = dataset.data\n",
        "# target = dataset.target\n",
        "# # Combine data and target into a single DataFrame\n",
        "# data['target'] = target"
      ],
      "metadata": {
        "id": "rgBjw9Mw27Kf"
      },
      "execution_count": 18,
      "outputs": []
    },
    {
      "cell_type": "code",
      "source": [
        "results = []\n",
        "for eps in epsilons:\n",
        "  for query, sensitivity in queries:\n",
        "    true_result = query(dataset)\n",
        "    private_result = laplace_mechanism(true_result, sensitivity, eps, random_state=42)\n",
        "    error = l1_error(true_result, private_result)\n",
        "    results.append((eps, true_result, private_result, error))\n",
        "\n",
        "    print(f\"Epsilon: {eps}\")\n",
        "    print(f\"True result:\\n{true_result}\")\n",
        "    print(f\"Private result:\\n{private_result}\")\n",
        "    print(f\"L1 error: {error}\\n\")\n"
      ],
      "metadata": {
        "colab": {
          "base_uri": "https://localhost:8080/"
        },
        "id": "av-7wjhC2YkA",
        "outputId": "26f14f38-db0a-45de-9aaa-1ec5d1b18e3a"
      },
      "execution_count": 19,
      "outputs": [
        {
          "output_type": "stream",
          "name": "stdout",
          "text": [
            "Epsilon: 0.1\n",
            "True result:\n",
            "32650\n",
            "Private result:\n",
            "32647.110908252256\n",
            "L1 error: 2.889091747743805\n",
            "\n",
            "Epsilon: 0.1\n",
            "True result:\n",
            "workclass\n",
            "Private             33906\n",
            "Self-emp-not-inc     3862\n",
            "Local-gov            3136\n",
            "State-gov            1981\n",
            "Self-emp-inc         1695\n",
            "Federal-gov          1432\n",
            "Without-pay            21\n",
            "Never-worked           10\n",
            "Name: count, dtype: int64\n",
            "Private result:\n",
            "workclass\n",
            "Private             33903.110908\n",
            "Self-emp-not-inc     3885.169743\n",
            "Local-gov            3142.235985\n",
            "State-gov            1983.197954\n",
            "Self-emp-inc         1683.353674\n",
            "Federal-gov          1420.352128\n",
            "Without-pay            -0.527245\n",
            "Never-worked           23.180837\n",
            "Name: count, dtype: float64\n",
            "L1 error: 92.49505358249019\n",
            "\n",
            "Epsilon: 1.0\n",
            "True result:\n",
            "32650\n",
            "Private result:\n",
            "32649.711090825225\n",
            "L1 error: 0.2889091747747443\n",
            "\n",
            "Epsilon: 1.0\n",
            "True result:\n",
            "workclass\n",
            "Private             33906\n",
            "Self-emp-not-inc     3862\n",
            "Local-gov            3136\n",
            "State-gov            1981\n",
            "Self-emp-inc         1695\n",
            "Federal-gov          1432\n",
            "Without-pay            21\n",
            "Never-worked           10\n",
            "Name: count, dtype: int64\n",
            "Private result:\n",
            "workclass\n",
            "Private             33905.711091\n",
            "Self-emp-not-inc     3864.316974\n",
            "Local-gov            3136.623599\n",
            "State-gov            1981.219795\n",
            "Self-emp-inc         1693.835367\n",
            "Federal-gov          1430.835213\n",
            "Without-pay            18.847275\n",
            "Never-worked           11.318084\n",
            "Name: count, dtype: float64\n",
            "L1 error: 9.249505358245994\n",
            "\n"
          ]
        }
      ]
    },
    {
      "cell_type": "code",
      "source": [
        "# Example usage of bar_plot_pandas for histograms\n",
        "attribute = 'workclass'\n",
        "true_histogram = histogram_query(dataset, attribute)\n",
        "for eps in epsilons:\n",
        "    private_histogram = laplace_mechanism(true_histogram, 1, eps, random_state=42)\n",
        "    bar_plot_pandas(true_histogram, private_histogram, label1=\"True Histogram\", label2=f\"Private Histogram (ε={eps})\", title=f\"Histogram of {attribute}\")\n"
      ],
      "metadata": {
        "colab": {
          "base_uri": "https://localhost:8080/",
          "height": 1000
        },
        "id": "lyoEo0Fv3duu",
        "outputId": "a0d2556d-6de7-4814-ffd8-df7d9433f816"
      },
      "execution_count": 20,
      "outputs": [
        {
          "output_type": "display_data",
          "data": {
            "text/plain": [
              "<Figure size 640x480 with 1 Axes>"
            ],
            "image/png": "[encoded data removed]"
          },
          "metadata": {}
        },
        {
          "output_type": "display_data",
          "data": {
            "text/plain": [
              "<Figure size 640x480 with 1 Axes>"
            ],
            "image/png": "[encoded data removed]"
          },
          "metadata": {}
        }
      ]
    },
    {
      "cell_type": "code",
      "source": [
        "# Plot for count_query\n",
        "true_count = count_query(dataset, 'sex', 'Male')\n",
        "for eps in epsilons:\n",
        "    private_count = laplace_mechanism(true_count, 1, eps, random_state=42)\n",
        "    count_series = pd.Series([true_count, private_count], index=[\"True Count\", f\"Private Count (ε={eps})\"])\n",
        "    bar_plot_pandas(count_series, title=\"Count of Males\")"
      ],
      "metadata": {
        "colab": {
          "base_uri": "https://localhost:8080/",
          "height": 1000
        },
        "id": "Cy9tsbTe4T7k",
        "outputId": "e31d8aef-0abf-4e27-a1e5-e15832cbaa14"
      },
      "execution_count": 21,
      "outputs": [
        {
          "output_type": "display_data",
          "data": {
            "text/plain": [
              "<Figure size 640x480 with 1 Axes>"
            ],
            "image/png": "[encoded data removed]"
          },
          "metadata": {}
        },
        {
          "output_type": "display_data",
          "data": {
            "text/plain": [
              "<Figure size 640x480 with 1 Axes>"
            ],
            "image/png": "[encoded data removed]"
          },
          "metadata": {}
        }
      ]
    },
    {
      "cell_type": "markdown",
      "metadata": {
        "id": "meW-UoksHsYF"
      },
      "source": [
        "## Question 4 (contingency tables and the \"paradox\" of parallel composition) [10 pts]"
      ]
    },
    {
      "cell_type": "markdown",
      "metadata": {
        "id": "UwEiSo3QHsYF"
      },
      "source": [
        "We can go beyond histograms and build contingency tables across two (or even more) variables. Implement a function for such queries using `crosstab` from pandas, and use the Laplace mechanism to privately find out how people in the dataset break down according to the combination of `'gender'` and `'marital-status'`. You may need to adapt your implementation of Laplace to work with k-way tables (e.g., by using the method `applymap` together with a function that adds 1D Laplace noise).\n",
        "\n",
        "Pushing this reasoning further, it may seem that there is a paradox because parallel composition gets us more information \"for free\" (e.g., we can build a k-way table over a large number of attributes that could ultimately reveal very precise information about individuals in the dataset, without increasing the privacy loss). This contradicts the principle that asking more things should cost something. Explain why there is in fact no paradox and what is the cost that one pays in this case (if needed, you can see what happens when privately releasing contingency tables across many columns)."
      ]
    },
    {
      "cell_type": "code",
      "execution_count": 22,
      "metadata": {
        "id": "_4Gdy_b7HsYF"
      },
      "outputs": [],
      "source": [
        "def table_query(df, row_attr_list, col_attr_list):\n",
        "    '''\n",
        "    Parameters\n",
        "    ----------\n",
        "    df : DataFrame\n",
        "        Dataset\n",
        "    row_attr_list : list\n",
        "        List of attributes\n",
        "    col_attr_list : list\n",
        "        List of attributes\n",
        "\n",
        "    Returns\n",
        "    -------\n",
        "    cross_table : DataFrame\n",
        "        Cross tabulation (contingency table) of `df` according to `row_attr_list` and `col_attr_list`\n",
        "    '''\n",
        "    cross_table = pd.crosstab(index=[df[attr] for attr in row_attr_list],\n",
        "                              columns=[df[attr] for attr in col_attr_list])\n",
        "    return cross_table\n"
      ]
    },
    {
      "cell_type": "code",
      "source": [
        "def add_laplace_noise_to_table(cross_table, sensitivity, epsilon, random_state=None):\n",
        "    noise_function = np.vectorize(lambda x: laplace_mechanism(x, sensitivity, epsilon, random_state))\n",
        "    noisy_table = cross_table.applymap(noise_function)\n",
        "    return noisy_table"
      ],
      "metadata": {
        "id": "ciJHSf9k5O6z"
      },
      "execution_count": 23,
      "outputs": []
    },
    {
      "cell_type": "code",
      "source": [
        "# Define attributes for the contingency table\n",
        "row_attributes = ['sex']\n",
        "col_attributes = ['marital-status']\n"
      ],
      "metadata": {
        "id": "fmZtlOZ45X7g"
      },
      "execution_count": 24,
      "outputs": []
    },
    {
      "cell_type": "code",
      "source": [
        "# Compute the contingency table\n",
        "true_table = table_query(dataset, row_attributes, col_attributes)\n",
        "print(\"True contingency table:\\n\", true_table)"
      ],
      "metadata": {
        "colab": {
          "base_uri": "https://localhost:8080/"
        },
        "id": "DdbtWPPq5dSj",
        "outputId": "c3eead69-7567-43c5-ef32-9c7d8560400c"
      },
      "execution_count": 25,
      "outputs": [
        {
          "output_type": "stream",
          "name": "stdout",
          "text": [
            "True contingency table:\n",
            " marital-status  Divorced  Married-AF-spouse  Married-civ-spouse  \\\n",
            "sex                                                               \n",
            "Female              4001                 25                2480   \n",
            "Male                2632                 12               19899   \n",
            "\n",
            "marital-status  Married-spouse-absent  Never-married  Separated  Widowed  \n",
            "sex                                                                       \n",
            "Female                            304           7218        931     1233  \n",
            "Male                              324           8899        599      285  \n"
          ]
        }
      ]
    },
    {
      "cell_type": "code",
      "source": [
        "# Apply Laplace mechanism to the contingency table\n",
        "epsilon = 1.0\n",
        "sensitivity = 1  # Sensitivity of the count query is 1\n",
        "private_table = add_laplace_noise_to_table(true_table, sensitivity, epsilon, random_state=42)\n",
        "print(\"Private contingency table (ε = 1.0):\\n\", private_table)"
      ],
      "metadata": {
        "colab": {
          "base_uri": "https://localhost:8080/"
        },
        "id": "v8AsUNdn5eiE",
        "outputId": "0280a8ce-99e7-44bf-83c8-81e1f1fa5e77"
      },
      "execution_count": 26,
      "outputs": [
        {
          "output_type": "stream",
          "name": "stdout",
          "text": [
            "Private contingency table (ε = 1.0):\n",
            " marital-status     Divorced  Married-AF-spouse  Married-civ-spouse  \\\n",
            "sex                                                                  \n",
            "Female          4000.711091          24.711091         2479.711091   \n",
            "Male            2631.711091          11.711091        19898.711091   \n",
            "\n",
            "marital-status  Married-spouse-absent  Never-married   Separated      Widowed  \n",
            "sex                                                                            \n",
            "Female                     303.711091    7217.711091  930.711091  1232.711091  \n",
            "Male                       323.711091    8898.711091  598.711091   284.711091  \n"
          ]
        }
      ]
    },
    {
      "cell_type": "markdown",
      "metadata": {
        "id": "_suhkiOCHsYF"
      },
      "source": [
        "## Question 5 (Laplace mechanism on average queries) [15pts]"
      ]
    },
    {
      "cell_type": "markdown",
      "metadata": {
        "id": "iliWDnDIHsYF"
      },
      "source": [
        "We would like to use the Laplace mechanism to privately estimate the average age of people in the dataset. We assume that the number of people in the dataset is public.\n",
        "\n",
        "1. Propose and implement simple practical strategies to compute or estimate the sensitivity of this query in the following two scenarios, and discuss the merits and/or drawbacks of your proposals:\n",
        "  - You are the trusted curator: you have access to the raw dataset and would like to release an estimate of the average age of people in the dataset with differential privacy guarantees.\n",
        "\n",
        "#######################################################################################################\n",
        "Strategy to Compute Sensitivity:\n",
        "As a trusted curator with access to the raw dataset, you can directly compute the sensitivity by using the range of the age attribute. The sensitivity S  for the average age query is given by:\n",
        "\n",
        "S = (max(age) - min(age))/n\n",
        "\n",
        "where n is the number of people in the dataset.\n",
        "\n",
        "#######################################################################################################\n",
        "  - You are an external data analyst: you do not have access to the raw dataset but only to an API to send queries. You have to convince the trusted curator that the proposed sensitivity is safe.\n",
        "\n",
        "#######################################################################################################\n",
        "As an external data analyst, you can estimate the sensitivity by assuming plausible bounds for the age attribute, such as the typical minimum and maximum ages. For example, you might assume that the ages range from 0 to 100. The sensitivity S can then be estimated as:\n",
        "\n",
        "\n",
        "S = (100- 0 )/n\n",
        "\n",
        "where n is the number of people in the dataset.\n",
        "\n",
        "#######################################################################################################\n",
        "\n",
        "\n",
        "2. Suggest some ideas regarding how we could change a bit the query to get a simple and safe bound on sensitivity, at the expense of possibly introducing some bias in the output. Implement the proposed solution. Hint: the method `clip` from pandas might be useful here.\n",
        "\n",
        "#######################################################################################################\n",
        "\n",
        "To ensure a simple and safe bound on sensitivity, we can clip the ages to a predefined range before computing the average. This introduces some bias but ensures the sensitivity is within a known range.\n",
        "\n",
        "#######################################################################################################\n"
      ]
    },
    {
      "cell_type": "code",
      "source": [
        "def compute_sensitivity_trusted(df, attribute):\n",
        "    max_value = df[attribute].max()\n",
        "    min_value = df[attribute].min()\n",
        "    n = len(df)\n",
        "    sensitivity = (max_value - min_value) / n\n",
        "    return sensitivity"
      ],
      "metadata": {
        "id": "2E7wgy7-7ZGY"
      },
      "execution_count": 35,
      "outputs": []
    },
    {
      "cell_type": "code",
      "source": [
        "# Example usage for trusted curator\n",
        "sensitivity = compute_sensitivity_trusted(dataset, 'age')\n",
        "print(f\"Sensitivity (Trusted Curator): {sensitivity}\")"
      ],
      "metadata": {
        "colab": {
          "base_uri": "https://localhost:8080/"
        },
        "id": "X7DeMkt87Y41",
        "outputId": "d2303976-ddda-4ead-88ef-9b1a4f00579c"
      },
      "execution_count": 30,
      "outputs": [
        {
          "output_type": "stream",
          "name": "stdout",
          "text": [
            "Sensitivity (Trusted Curator): 0.0014946152901191597\n"
          ]
        }
      ]
    },
    {
      "cell_type": "code",
      "source": [
        "def estimate_sensitivity_external(n, min_age=0, max_age=100):\n",
        "    sensitivity = (max_age - min_age) / n\n",
        "    return sensitivity"
      ],
      "metadata": {
        "id": "Spnhw6fQ7LOg"
      },
      "execution_count": 34,
      "outputs": []
    },
    {
      "cell_type": "code",
      "source": [
        "# Example usage for external data analyst\n",
        "n = len(dataset)\n",
        "estimated_sensitivity = estimate_sensitivity_external(n)\n",
        "print(f\"Estimated Sensitivity (External Analyst): {estimated_sensitivity}\")"
      ],
      "metadata": {
        "colab": {
          "base_uri": "https://localhost:8080/"
        },
        "id": "stjNiXSG7Sjd",
        "outputId": "146cdeea-bd96-4648-d10f-f8a3f86e072b"
      },
      "execution_count": 28,
      "outputs": [
        {
          "output_type": "stream",
          "name": "stdout",
          "text": [
            "Estimated Sensitivity (External Analyst): 0.0020474182056426844\n"
          ]
        }
      ]
    },
    {
      "cell_type": "code",
      "source": [
        "def compute_average_age_with_clipping(df, attribute, clip_min, clip_max, epsilon):\n",
        "    clipped_ages = df[attribute].clip(lower=clip_min, upper=clip_max)\n",
        "    true_average = clipped_ages.mean()\n",
        "    n = len(df)\n",
        "    sensitivity = (clip_max - clip_min) / n\n",
        "    private_average = laplace_mechanism(true_average, sensitivity, epsilon)\n",
        "    return private_average"
      ],
      "metadata": {
        "id": "6r6KD0T57VZ9"
      },
      "execution_count": 32,
      "outputs": []
    },
    {
      "cell_type": "code",
      "source": [
        "# Example usage for clipped average age\n",
        "clip_min = 0\n",
        "clip_max = 100\n",
        "epsilon = 1.0\n",
        "private_average_age = compute_average_age_with_clipping(dataset, 'age', clip_min, clip_max, epsilon)\n",
        "print(f\"Differentially Private Average Age with Clipping: {private_average_age}\")\n"
      ],
      "metadata": {
        "colab": {
          "base_uri": "https://localhost:8080/"
        },
        "id": "CavtfRvI8PNn",
        "outputId": "df5ab272-4a5c-4e4b-9413-c24a9ba2963b"
      },
      "execution_count": 33,
      "outputs": [
        {
          "output_type": "stream",
          "name": "stdout",
          "text": [
            "Differentially Private Average Age with Clipping: 38.643623618295194\n"
          ]
        }
      ]
    },
    {
      "cell_type": "markdown",
      "metadata": {
        "id": "o-gfJnvAHsYF"
      },
      "source": [
        "## Question 6 (average over a subset) [15 pts]"
      ]
    },
    {
      "cell_type": "markdown",
      "metadata": {
        "id": "mdvMSmeRHsYF"
      },
      "source": [
        "We would now like to compute the average age of divorced people. How can we use the Laplace mechanism to privately answer this query? Implement your solution."
      ]
    },
    {
      "cell_type": "markdown",
      "source": [
        "To compute the differentially private average age of divorced people, we can use the Laplace mechanism. Here are the steps to achieve this:\n",
        "\n",
        "\n",
        "1- Filter the Dataset\n",
        "\n",
        "2- Clip the Ages\n",
        "\n",
        "3-Compute the True Average Age\n",
        "\n",
        "4-Compute the Sensitivity\n",
        "\n",
        "5-Add Laplace Noise"
      ],
      "metadata": {
        "id": "0NUVO1jF83F5"
      }
    },
    {
      "cell_type": "code",
      "source": [
        "def compute_average_age_divorced(df, clip_min, clip_max, epsilon, random_state=None):\n",
        "    divorced_df = df[df['marital-status'] == 'Divorced']\n",
        "    # Clip the ages to the specified range\n",
        "    clipped_ages = divorced_df['age'].clip(lower=clip_min, upper=clip_max)\n",
        "    # Compute the true average age\n",
        "    true_average = clipped_ages.mean()\n",
        "    # Compute the sensitivity\n",
        "    n = len(divorced_df)\n",
        "    sensitivity = (clip_max - clip_min) / n\n",
        "    # Apply the Laplace mechanism\n",
        "    private_average = laplace_mechanism(true_average, sensitivity, epsilon, random_state)\n",
        "    return private_average"
      ],
      "metadata": {
        "id": "Alt3uR-H81V7"
      },
      "execution_count": 36,
      "outputs": []
    },
    {
      "cell_type": "code",
      "source": [
        "clip_min = 0\n",
        "clip_max = 100\n",
        "epsilon = 1.0\n",
        "random_state = 42\n",
        "\n",
        "# Compute the differentially private average age of divorced people\n",
        "private_average_age_divorced = compute_average_age_divorced(dataset, clip_min, clip_max, epsilon, random_state)\n",
        "print(f\"Differentially Private Average Age of Divorced People: {private_average_age_divorced}\")"
      ],
      "metadata": {
        "colab": {
          "base_uri": "https://localhost:8080/"
        },
        "id": "EDqY2LbA9Y-0",
        "outputId": "bd080b74-3cfe-475a-ba19-4789f1a33af3"
      },
      "execution_count": 37,
      "outputs": [
        {
          "output_type": "stream",
          "name": "stdout",
          "text": [
            "Differentially Private Average Age of Divorced People: 43.154848346528354\n"
          ]
        }
      ]
    },
    {
      "cell_type": "markdown",
      "metadata": {
        "id": "vqqIzMmiHsYF"
      },
      "source": [
        "## Question 7 (Gaussian mechanism and comparison with Laplace) [20 pts]"
      ]
    },
    {
      "cell_type": "markdown",
      "metadata": {
        "id": "RRDa6cKRHsYF"
      },
      "source": [
        "Implement the Gaussian mechanism (to draw Gaussian noise, check `np.random.normal`). Make an experimental comparison with the Laplace mechanism by plotting the privacy-utility trade-off for a 1D query of your choice. For the Gaussian mechanism, study the influence of $\\delta$."
      ]
    },
    {
      "cell_type": "code",
      "execution_count": 38,
      "metadata": {
        "id": "9ut7I1UZHsYF"
      },
      "outputs": [],
      "source": [
        "def gaussian_mechanism(q, s2, eps, delta, random_state=None):\n",
        "    '''\n",
        "    Parameters\n",
        "    ----------\n",
        "    q : float or array/Series of float\n",
        "        The non-private output of the query\n",
        "    s2 : float\n",
        "        The L2 sensitivity of the query\n",
        "    eps : float\n",
        "        Parameter epsilon of differential privacy\n",
        "    delta : float\n",
        "        Parameter delta of differential privacy\n",
        "    random_state : int, optional (default=None)\n",
        "        Random seed\n",
        "\n",
        "    Returns\n",
        "    -------\n",
        "    private_q : float or array/Series of float\n",
        "        An (eps,delta)-DP evaluation of the query\n",
        "    '''\n",
        "\n",
        "    rng = np.random.RandomState(random_state)\n",
        "    scale = np.sqrt(2 * np.log(1.25 / delta)) * s2 / eps\n",
        "\n",
        "    if hasattr(q, 'shape'): # query output is multi-dimensional\n",
        "        noise = rng.normal(0, scale, q.shape)\n",
        "    else: # query output is a scalar\n",
        "        noise = rng.normal(0, scale)\n",
        "    private_q = q + noise\n",
        "    return private_q"
      ]
    },
    {
      "cell_type": "code",
      "source": [
        "def compute_average_age_divorced2(df, clip_min, clip_max, epsilon, mechanism='laplace', delta=None, random_state=None):\n",
        "    divorced_df = df[df['marital-status'] == 'Divorced']\n",
        "    clipped_ages = divorced_df['age'].clip(lower=clip_min, upper=clip_max)\n",
        "    true_average = clipped_ages.mean()\n",
        "    n = len(divorced_df)\n",
        "    sensitivity = (clip_max - clip_min) / n\n",
        "    if mechanism == 'laplace':\n",
        "        private_average = laplace_mechanism(true_average, sensitivity, epsilon, random_state)\n",
        "    elif mechanism == 'gaussian':\n",
        "        if delta is None:\n",
        "            raise ValueError(\"delta must be provided for the Gaussian mechanism\")\n",
        "        private_average = gaussian_mechanism(true_average, sensitivity, epsilon, delta, random_state)\n",
        "    else:\n",
        "        raise ValueError(\"Unknown mechanism: {}\".format(mechanism))\n",
        "    return private_average"
      ],
      "metadata": {
        "id": "K1bCqiOW_BEC"
      },
      "execution_count": 40,
      "outputs": []
    },
    {
      "cell_type": "code",
      "source": [
        "# Parameters for the experiment\n",
        "clip_min = 0\n",
        "clip_max = 100\n",
        "epsilons = [0.1, 0.5, 1.0, 2.0]\n",
        "delta = 1e-5\n",
        "random_state = 42\n",
        "\n",
        "# Compute the true average age for comparison\n",
        "true_average_age = compute_average_age_divorced2(dataset, clip_min, clip_max, epsilon=0, mechanism='laplace')\n",
        "\n",
        "laplace_errors = []\n",
        "gaussian_errors = []\n",
        "\n",
        "for epsilon in epsilons:\n",
        "    laplace_avg = compute_average_age_divorced2(dataset, clip_min, clip_max, epsilon, mechanism='laplace', random_state=random_state)\n",
        "    gaussian_avg = compute_average_age_divorced2(dataset, clip_min, clip_max, epsilon, mechanism='gaussian', delta=delta, random_state=random_state)\n",
        "\n",
        "    laplace_errors.append(np.abs(true_average_age - laplace_avg))\n",
        "    gaussian_errors.append(np.abs(true_average_age - gaussian_avg))\n",
        "\n",
        "plt.figure(figsize=(10, 6))\n",
        "plt.plot(epsilons, laplace_errors, marker='o', label='Laplace Mechanism')\n",
        "plt.plot(epsilons, gaussian_errors, marker='x', label='Gaussian Mechanism')\n",
        "plt.xlabel('Epsilon')\n",
        "plt.ylabel('L1 Error')\n",
        "plt.title('Privacy-Utility Trade-off for Laplace and Gaussian Mechanisms')\n",
        "plt.legend()\n",
        "plt.grid(True)\n",
        "plt.show()"
      ],
      "metadata": {
        "colab": {
          "base_uri": "https://localhost:8080/",
          "height": 564
        },
        "id": "PIs8csgH-I9-",
        "outputId": "b33c72b5-630b-4a44-bd9e-bd713fa80be9"
      },
      "execution_count": 43,
      "outputs": [
        {
          "output_type": "display_data",
          "data": {
            "text/plain": [
              "<Figure size 1000x600 with 1 Axes>"
            ],
            "image/png": "[encoded data removed]"
          },
          "metadata": {}
        }
      ]
    },
    {
      "cell_type": "code",
      "source": [
        "def compute_average_age_divorced3(df, clip_min, clip_max):\n",
        "    divorced_df = df[df['marital-status'] == 'Divorced']\n",
        "    clipped_ages = divorced_df['age'].clip(lower=clip_min, upper=clip_max)\n",
        "    true_average = clipped_ages.mean()\n",
        "    n = len(divorced_df)\n",
        "    sensitivity = (clip_max - clip_min) / n\n",
        "    return true_average, sensitivity, n\n"
      ],
      "metadata": {
        "id": "zkLKOA-7BOxZ"
      },
      "execution_count": 46,
      "outputs": []
    },
    {
      "cell_type": "code",
      "execution_count": 47,
      "metadata": {
        "id": "y3uGDLTAHsYF",
        "colab": {
          "base_uri": "https://localhost:8080/",
          "height": 467
        },
        "outputId": "2c0b4434-09a3-4532-d62a-4f1cc5f68b49"
      },
      "outputs": [
        {
          "output_type": "execute_result",
          "data": {
            "text/plain": [
              "<matplotlib.legend.Legend at 0x7f353d93dc60>"
            ]
          },
          "metadata": {},
          "execution_count": 47
        },
        {
          "output_type": "display_data",
          "data": {
            "text/plain": [
              "<Figure size 640x480 with 1 Axes>"
            ],
            "image/png": "[encoded data removed]"
          },
          "metadata": {}
        }
      ],
      "source": [
        "\n",
        "# Compute true average and sensitivity\n",
        "clip_min = 0\n",
        "clip_max = 100\n",
        "true_average, sensitivity, n = compute_average_age_divorced3(dataset, clip_min, clip_max)\n",
        "\n",
        "eps_list = np.linspace(0.01, 10.0, num=20)\n",
        "delta1 = 1. / n**2\n",
        "delta2 = 1. / n**4\n",
        "n_runs = 50\n",
        "\n",
        "error = np.zeros((len(eps_list), 3, n_runs))\n",
        "\n",
        "for i, eps in enumerate(eps_list):\n",
        "    for r in range(n_runs):\n",
        "       # Laplace mechanism\n",
        "        laplace_result = laplace_mechanism(true_average, sensitivity, eps, random_state=r)\n",
        "        error[i, 0, r] = np.abs(true_average - laplace_result)\n",
        "\n",
        "        # Gaussian mechanism with delta1\n",
        "        gaussian_result1 = gaussian_mechanism(true_average, sensitivity, eps, delta1, random_state=r)\n",
        "        error[i, 1, r] = np.abs(true_average - gaussian_result1)\n",
        "\n",
        "        # Gaussian mechanism with delta2\n",
        "        gaussian_result2 = gaussian_mechanism(true_average, sensitivity, eps, delta2, random_state=r)\n",
        "        error[i, 2, r] = np.abs(true_average - gaussian_result2)\n",
        "\n",
        "\n",
        "\n",
        "fig = plt.figure()\n",
        "ax = fig.add_subplot(1, 1, 1)\n",
        "ax.errorbar(eps_list, error[:, 0, :].mean(axis=1), error[:, 0, :].std(axis=1), label='Laplace mechanism')\n",
        "ax.errorbar(eps_list, error[:, 1, :].mean(axis=1), error[:, 1, :].std(axis=1),\n",
        "            label='Gaussian mechanism ($\\delta$=' + \"{:.2e}\".format(delta1) + ')')\n",
        "ax.errorbar(eps_list, error[:, 2, :].mean(axis=1), error[:, 2, :].std(axis=1),\n",
        "            label='Gaussian mechanism ($\\delta$=' + \"{:.2e}\".format(delta2) + ')')\n",
        "plt.xlabel(\"$\\epsilon$\")\n",
        "plt.ylabel(\"$\\ell_1$ error\")\n",
        "ax.set_yscale('log')\n",
        "ax.legend()"
      ]
    }
  ],
  "metadata": {
    "kernelspec": {
      "display_name": "Python 3",
      "language": "python",
      "name": "python3"
    },
    "language_info": {
      "codemirror_mode": {
        "name": "ipython",
        "version": 3
      },
      "file_extension": ".py",
      "mimetype": "text/x-python",
      "name": "python",
      "nbconvert_exporter": "python",
      "pygments_lexer": "ipython3",
      "version": "3.8.3"
    },
    "colab": {
      "provenance": []
    }
  },
  "nbformat": 4,
  "nbformat_minor": 0
}